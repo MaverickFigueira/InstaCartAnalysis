{
 "cells": [
  {
   "cell_type": "markdown",
   "id": "7a12eb69",
   "metadata": {},
   "source": [
    "# 01. Importing libraries"
   ]
  },
  {
   "cell_type": "code",
   "execution_count": 2,
   "id": "b902bb88",
   "metadata": {},
   "outputs": [],
   "source": [
    "# Import libraries\n",
    "import pandas as pd\n",
    "import numpy as np\n",
    "import os"
   ]
  },
  {
   "cell_type": "markdown",
   "id": "fd05a9e9",
   "metadata": {},
   "source": [
    "# 02. Reading Examples"
   ]
  },
  {
   "cell_type": "code",
   "execution_count": 3,
   "id": "c1ceae80",
   "metadata": {},
   "outputs": [],
   "source": [
    "x = 2"
   ]
  },
  {
   "cell_type": "code",
   "execution_count": 4,
   "id": "b848497a",
   "metadata": {},
   "outputs": [
    {
     "data": {
      "text/plain": [
       "2"
      ]
     },
     "execution_count": 4,
     "metadata": {},
     "output_type": "execute_result"
    }
   ],
   "source": [
    "x"
   ]
  },
  {
   "cell_type": "code",
   "execution_count": 7,
   "id": "6f3b7229",
   "metadata": {},
   "outputs": [
    {
     "data": {
      "text/plain": [
       "int"
      ]
     },
     "execution_count": 7,
     "metadata": {},
     "output_type": "execute_result"
    }
   ],
   "source": [
    "type(x)"
   ]
  },
  {
   "cell_type": "code",
   "execution_count": 8,
   "id": "6c180ed7",
   "metadata": {},
   "outputs": [],
   "source": [
    "y = 5.678"
   ]
  },
  {
   "cell_type": "code",
   "execution_count": 9,
   "id": "17b01cd5",
   "metadata": {},
   "outputs": [
    {
     "data": {
      "text/plain": [
       "float"
      ]
     },
     "execution_count": 9,
     "metadata": {},
     "output_type": "execute_result"
    }
   ],
   "source": [
    "type(y)"
   ]
  },
  {
   "cell_type": "code",
   "execution_count": 10,
   "id": "6733768e",
   "metadata": {},
   "outputs": [],
   "source": [
    "z = \"Brazil'\""
   ]
  },
  {
   "cell_type": "code",
   "execution_count": 11,
   "id": "08b1fe3d",
   "metadata": {},
   "outputs": [
    {
     "data": {
      "text/plain": [
       "str"
      ]
     },
     "execution_count": 11,
     "metadata": {},
     "output_type": "execute_result"
    }
   ],
   "source": [
    "type(z)"
   ]
  },
  {
   "cell_type": "code",
   "execution_count": 13,
   "id": "2f6f471b",
   "metadata": {},
   "outputs": [
    {
     "data": {
      "text/plain": [
       "bool"
      ]
     },
     "execution_count": 13,
     "metadata": {},
     "output_type": "execute_result"
    }
   ],
   "source": [
    "type(True)"
   ]
  },
  {
   "cell_type": "code",
   "execution_count": 14,
   "id": "a5f871c8",
   "metadata": {},
   "outputs": [
    {
     "data": {
      "text/plain": [
       "bool"
      ]
     },
     "execution_count": 14,
     "metadata": {},
     "output_type": "execute_result"
    }
   ],
   "source": [
    "type(False)"
   ]
  },
  {
   "cell_type": "code",
   "execution_count": 15,
   "id": "a695a40d",
   "metadata": {},
   "outputs": [
    {
     "name": "stdout",
     "output_type": "stream",
     "text": [
      "2\n"
     ]
    }
   ],
   "source": [
    "print(x)"
   ]
  },
  {
   "cell_type": "code",
   "execution_count": 16,
   "id": "fa7c8af1",
   "metadata": {},
   "outputs": [
    {
     "data": {
      "text/plain": [
       "6"
      ]
     },
     "execution_count": 16,
     "metadata": {},
     "output_type": "execute_result"
    }
   ],
   "source": [
    "x + 4"
   ]
  },
  {
   "cell_type": "code",
   "execution_count": 17,
   "id": "ba9c7e63",
   "metadata": {},
   "outputs": [],
   "source": [
    "x = x +4"
   ]
  },
  {
   "cell_type": "code",
   "execution_count": 18,
   "id": "ac917373",
   "metadata": {},
   "outputs": [
    {
     "name": "stdout",
     "output_type": "stream",
     "text": [
      "6\n"
     ]
    }
   ],
   "source": [
    "print(x)"
   ]
  },
  {
   "cell_type": "code",
   "execution_count": 19,
   "id": "4f27800e",
   "metadata": {},
   "outputs": [],
   "source": [
    "a = 'Hello, '"
   ]
  },
  {
   "cell_type": "code",
   "execution_count": 20,
   "id": "12d003b8",
   "metadata": {},
   "outputs": [],
   "source": [
    "b = \"Marley\""
   ]
  },
  {
   "cell_type": "code",
   "execution_count": 21,
   "id": "542e07dc",
   "metadata": {},
   "outputs": [
    {
     "data": {
      "text/plain": [
       "'Hello, Marley'"
      ]
     },
     "execution_count": 21,
     "metadata": {},
     "output_type": "execute_result"
    }
   ],
   "source": [
    "a + b"
   ]
  },
  {
   "cell_type": "code",
   "execution_count": 23,
   "id": "ba7ec4ef",
   "metadata": {},
   "outputs": [],
   "source": [
    "n = 'potato'"
   ]
  },
  {
   "cell_type": "code",
   "execution_count": 24,
   "id": "6d62528a",
   "metadata": {},
   "outputs": [
    {
     "data": {
      "text/plain": [
       "'potatopotatopotatopotatopotatopotatopotatopotatopotatopotatopotatopotato'"
      ]
     },
     "execution_count": 24,
     "metadata": {},
     "output_type": "execute_result"
    }
   ],
   "source": [
    "n * 12"
   ]
  },
  {
   "cell_type": "code",
   "execution_count": 25,
   "id": "ccac1590",
   "metadata": {},
   "outputs": [
    {
     "data": {
      "text/plain": [
       "False"
      ]
     },
     "execution_count": 25,
     "metadata": {},
     "output_type": "execute_result"
    }
   ],
   "source": [
    "x == y"
   ]
  },
  {
   "cell_type": "code",
   "execution_count": 26,
   "id": "e754309e",
   "metadata": {},
   "outputs": [
    {
     "data": {
      "text/plain": [
       "bool"
      ]
     },
     "execution_count": 26,
     "metadata": {},
     "output_type": "execute_result"
    }
   ],
   "source": [
    "type(x == y)"
   ]
  },
  {
   "cell_type": "markdown",
   "id": "1e4cd03c",
   "metadata": {},
   "source": [
    "# 03. 4.2 Tasks"
   ]
  },
  {
   "cell_type": "code",
   "execution_count": 27,
   "id": "0e761a24",
   "metadata": {},
   "outputs": [],
   "source": [
    "z = 50"
   ]
  },
  {
   "cell_type": "code",
   "execution_count": 28,
   "id": "a3e662d7",
   "metadata": {},
   "outputs": [],
   "source": [
    "t = 25"
   ]
  },
  {
   "cell_type": "code",
   "execution_count": 29,
   "id": "6d07bc43",
   "metadata": {},
   "outputs": [],
   "source": [
    "u = 50"
   ]
  },
  {
   "cell_type": "code",
   "execution_count": 30,
   "id": "9086d4c3",
   "metadata": {},
   "outputs": [],
   "source": [
    "s = 25"
   ]
  },
  {
   "cell_type": "code",
   "execution_count": 31,
   "id": "c9ab19a4",
   "metadata": {},
   "outputs": [],
   "source": [
    "r = 125"
   ]
  },
  {
   "cell_type": "code",
   "execution_count": 32,
   "id": "3e5afcbe",
   "metadata": {},
   "outputs": [
    {
     "data": {
      "text/plain": [
       "100"
      ]
     },
     "execution_count": 32,
     "metadata": {},
     "output_type": "execute_result"
    }
   ],
   "source": [
    "z + u"
   ]
  },
  {
   "cell_type": "code",
   "execution_count": 33,
   "id": "ff1efe01",
   "metadata": {},
   "outputs": [
    {
     "data": {
      "text/plain": [
       "100"
      ]
     },
     "execution_count": 33,
     "metadata": {},
     "output_type": "execute_result"
    }
   ],
   "source": [
    "r - t"
   ]
  },
  {
   "cell_type": "code",
   "execution_count": 34,
   "id": "d0c6804c",
   "metadata": {},
   "outputs": [
    {
     "data": {
      "text/plain": [
       "100"
      ]
     },
     "execution_count": 34,
     "metadata": {},
     "output_type": "execute_result"
    }
   ],
   "source": [
    "u + t +s"
   ]
  },
  {
   "cell_type": "code",
   "execution_count": 35,
   "id": "b6cc633c",
   "metadata": {},
   "outputs": [],
   "source": [
    "g = 3.451"
   ]
  },
  {
   "cell_type": "code",
   "execution_count": 36,
   "id": "d90b1c7c",
   "metadata": {},
   "outputs": [],
   "source": [
    "h = 5.905"
   ]
  },
  {
   "cell_type": "code",
   "execution_count": 37,
   "id": "b8ab707f",
   "metadata": {},
   "outputs": [
    {
     "data": {
      "text/plain": [
       "0.5844199830651989"
      ]
     },
     "execution_count": 37,
     "metadata": {},
     "output_type": "execute_result"
    }
   ],
   "source": [
    "g / h"
   ]
  },
  {
   "cell_type": "code",
   "execution_count": 38,
   "id": "01147476",
   "metadata": {},
   "outputs": [],
   "source": [
    "c = 'Time '"
   ]
  },
  {
   "cell_type": "code",
   "execution_count": 39,
   "id": "5cc3810a",
   "metadata": {},
   "outputs": [],
   "source": [
    "d = 'to '"
   ]
  },
  {
   "cell_type": "code",
   "execution_count": 40,
   "id": "775ceb61",
   "metadata": {},
   "outputs": [],
   "source": [
    "e = 'jet.'"
   ]
  },
  {
   "cell_type": "code",
   "execution_count": 41,
   "id": "c0afad6c",
   "metadata": {},
   "outputs": [
    {
     "data": {
      "text/plain": [
       "'Time to jet.'"
      ]
     },
     "execution_count": 41,
     "metadata": {},
     "output_type": "execute_result"
    }
   ],
   "source": [
    "c + d + e"
   ]
  },
  {
   "cell_type": "code",
   "execution_count": 43,
   "id": "77553ad5",
   "metadata": {},
   "outputs": [],
   "source": [
    "f = 'What '"
   ]
  },
  {
   "cell_type": "code",
   "execution_count": 44,
   "id": "72df87f6",
   "metadata": {},
   "outputs": [],
   "source": [
    "m = 'is '"
   ]
  },
  {
   "cell_type": "code",
   "execution_count": 45,
   "id": "37d642f7",
   "metadata": {},
   "outputs": [],
   "source": [
    "n = 'the '"
   ]
  },
  {
   "cell_type": "code",
   "execution_count": 46,
   "id": "3ce2fe30",
   "metadata": {},
   "outputs": [],
   "source": [
    "o = 'meaning '"
   ]
  },
  {
   "cell_type": "code",
   "execution_count": 47,
   "id": "2ccb60ce",
   "metadata": {},
   "outputs": [],
   "source": [
    "p = 'of '"
   ]
  },
  {
   "cell_type": "code",
   "execution_count": 48,
   "id": "54b35705",
   "metadata": {},
   "outputs": [],
   "source": [
    "q = 'life?'"
   ]
  },
  {
   "cell_type": "code",
   "execution_count": 49,
   "id": "3dedf48f",
   "metadata": {},
   "outputs": [
    {
     "data": {
      "text/plain": [
       "'What is the meaning of life?'"
      ]
     },
     "execution_count": 49,
     "metadata": {},
     "output_type": "execute_result"
    }
   ],
   "source": [
    "f + m + n + o + p + q"
   ]
  },
  {
   "cell_type": "code",
   "execution_count": 50,
   "id": "1882e83d",
   "metadata": {},
   "outputs": [
    {
     "data": {
      "text/plain": [
       "'jet.jet.jet.jet.jet.jet.jet.jet.jet.jet.jet.jet.jet.jet.jet.jet.jet.jet.jet.jet.jet.jet.jet.jet.jet.jet.jet.jet.jet.jet.jet.jet.jet.jet.jet.jet.jet.jet.jet.jet.jet.jet.jet.jet.jet.jet.jet.jet.jet.jet.jet.jet.jet.jet.jet.jet.jet.jet.jet.jet.jet.jet.jet.jet.jet.jet.jet.jet.jet.jet.jet.jet.jet.jet.jet.jet.jet.jet.jet.jet.jet.jet.jet.jet.jet.jet.jet.jet.jet.jet.jet.jet.jet.jet.jet.jet.jet.jet.jet.jet.'"
      ]
     },
     "execution_count": 50,
     "metadata": {},
     "output_type": "execute_result"
    }
   ],
   "source": [
    "e * 100"
   ]
  },
  {
   "cell_type": "code",
   "execution_count": null,
   "id": "2b023ba5",
   "metadata": {},
   "outputs": [],
   "source": []
  }
 ],
 "metadata": {
  "kernelspec": {
   "display_name": "Python 3 (ipykernel)",
   "language": "python",
   "name": "python3"
  },
  "language_info": {
   "codemirror_mode": {
    "name": "ipython",
    "version": 3
   },
   "file_extension": ".py",
   "mimetype": "text/x-python",
   "name": "python",
   "nbconvert_exporter": "python",
   "pygments_lexer": "ipython3",
   "version": "3.11.5"
  }
 },
 "nbformat": 4,
 "nbformat_minor": 5
}
